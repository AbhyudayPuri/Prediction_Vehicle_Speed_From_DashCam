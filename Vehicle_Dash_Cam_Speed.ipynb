{
  "nbformat": 4,
  "nbformat_minor": 0,
  "metadata": {
    "colab": {
      "name": "Vehicle Dash Cam Speed.ipynb",
      "provenance": [],
      "collapsed_sections": [],
      "toc_visible": true,
      "include_colab_link": true
    },
    "kernelspec": {
      "name": "python3",
      "display_name": "Python 3"
    },
    "accelerator": "GPU"
  },
  "cells": [
    {
      "cell_type": "markdown",
      "metadata": {
        "id": "view-in-github",
        "colab_type": "text"
      },
      "source": [
        "<a href=\"https://colab.research.google.com/github/AbhyudayPuri/Prediction_Vehicle_Speed_From_DashCam/blob/master/Vehicle_Dash_Cam_Speed.ipynb\" target=\"_parent\"><img src=\"https://colab.research.google.com/assets/colab-badge.svg\" alt=\"Open In Colab\"/></a>"
      ]
    },
    {
      "cell_type": "markdown",
      "metadata": {
        "id": "qqUtf4uWE408",
        "colab_type": "text"
      },
      "source": [
        "# Vehicle Dash Cam Speed Prediction"
      ]
    },
    {
      "cell_type": "code",
      "metadata": {
        "id": "4DqeLSXbCy_-",
        "colab_type": "code",
        "outputId": "3b24f208-ddac-4884-e833-27f78f1f3e11",
        "colab": {
          "base_uri": "https://localhost:8080/",
          "height": 122
        }
      },
      "source": [
        "from google.colab import drive\n",
        "drive.mount('/content/gdrive')"
      ],
      "execution_count": 0,
      "outputs": [
        {
          "output_type": "stream",
          "text": [
            "Go to this URL in a browser: https://accounts.google.com/o/oauth2/auth?client_id=947318989803-6bn6qk8qdgf4n4g3pfee6491hc0brc4i.apps.googleusercontent.com&redirect_uri=urn%3Aietf%3Awg%3Aoauth%3A2.0%3Aoob&scope=email%20https%3A%2F%2Fwww.googleapis.com%2Fauth%2Fdocs.test%20https%3A%2F%2Fwww.googleapis.com%2Fauth%2Fdrive%20https%3A%2F%2Fwww.googleapis.com%2Fauth%2Fdrive.photos.readonly%20https%3A%2F%2Fwww.googleapis.com%2Fauth%2Fpeopleapi.readonly&response_type=code\n",
            "\n",
            "Enter your authorization code:\n",
            "··········\n",
            "Mounted at /content/gdrive\n"
          ],
          "name": "stdout"
        }
      ]
    },
    {
      "cell_type": "code",
      "metadata": {
        "id": "whtZfDWNC7zb",
        "colab_type": "code",
        "colab": {}
      },
      "source": [
        "import pandas as pd\n",
        "import cv2 as cv\n",
        "import os\n",
        "import matplotlib.pyplot as plt\n",
        "from google.colab import files"
      ],
      "execution_count": 0,
      "outputs": []
    },
    {
      "cell_type": "code",
      "metadata": {
        "id": "p1vZNV1OPEef",
        "colab_type": "code",
        "outputId": "f2a63fc2-48e7-4d40-9166-14b26c8e5588",
        "colab": {
          "base_uri": "https://localhost:8080/",
          "height": 204
        }
      },
      "source": [
        "labels = pd.read_csv(\"/content/gdrive/My Drive/Colab Notebooks/SpeedChallengeData/data/train.txt\", sep=\" \", header=None)\n",
        "labels.columns=['Speed']\n",
        "labels.head()"
      ],
      "execution_count": 0,
      "outputs": [
        {
          "output_type": "execute_result",
          "data": {
            "text/html": [
              "<div>\n",
              "<style scoped>\n",
              "    .dataframe tbody tr th:only-of-type {\n",
              "        vertical-align: middle;\n",
              "    }\n",
              "\n",
              "    .dataframe tbody tr th {\n",
              "        vertical-align: top;\n",
              "    }\n",
              "\n",
              "    .dataframe thead th {\n",
              "        text-align: right;\n",
              "    }\n",
              "</style>\n",
              "<table border=\"1\" class=\"dataframe\">\n",
              "  <thead>\n",
              "    <tr style=\"text-align: right;\">\n",
              "      <th></th>\n",
              "      <th>Speed</th>\n",
              "    </tr>\n",
              "  </thead>\n",
              "  <tbody>\n",
              "    <tr>\n",
              "      <th>0</th>\n",
              "      <td>28.105569</td>\n",
              "    </tr>\n",
              "    <tr>\n",
              "      <th>1</th>\n",
              "      <td>28.105569</td>\n",
              "    </tr>\n",
              "    <tr>\n",
              "      <th>2</th>\n",
              "      <td>28.106527</td>\n",
              "    </tr>\n",
              "    <tr>\n",
              "      <th>3</th>\n",
              "      <td>28.130404</td>\n",
              "    </tr>\n",
              "    <tr>\n",
              "      <th>4</th>\n",
              "      <td>28.109243</td>\n",
              "    </tr>\n",
              "  </tbody>\n",
              "</table>\n",
              "</div>"
            ],
            "text/plain": [
              "       Speed\n",
              "0  28.105569\n",
              "1  28.105569\n",
              "2  28.106527\n",
              "3  28.130404\n",
              "4  28.109243"
            ]
          },
          "metadata": {
            "tags": []
          },
          "execution_count": 21
        }
      ]
    },
    {
      "cell_type": "code",
      "metadata": {
        "id": "jlWIj0KKC8dk",
        "colab_type": "code",
        "colab": {}
      },
      "source": [
        "# Reading the train video\n",
        "vidcap = cv.VideoCapture('/content/gdrive/My Drive/Colab Notebooks/SpeedChallengeData/data/train.mp4')\n",
        "success,image = vidcap.read()\n",
        "count = 0\n",
        "while success:\n",
        "  cv.imwrite(\"/content/train/frame%d.jpg\" % count, image)     # save frame as JPEG file      \n",
        "  success,image = vidcap.read()\n",
        "  # print('Read a new frame: ', success)\n",
        "  count += 1"
      ],
      "execution_count": 0,
      "outputs": []
    },
    {
      "cell_type": "code",
      "metadata": {
        "id": "NOGcx7b7Hb2T",
        "colab_type": "code",
        "outputId": "f6461c8b-c012-4688-a361-e2de48fb05c2",
        "colab": {
          "base_uri": "https://localhost:8080/",
          "height": 204
        }
      },
      "source": [
        "# Adding the file names to the label dataframe\n",
        "fname = os.listdir(\"/content/gdrive/My Drive/Colab Notebooks/SpeedChallengeData/data/train/\")\n",
        "labels.insert(0, \"Frame0\", fname)\n",
        "labels.head()"
      ],
      "execution_count": 0,
      "outputs": [
        {
          "output_type": "execute_result",
          "data": {
            "text/html": [
              "<div>\n",
              "<style scoped>\n",
              "    .dataframe tbody tr th:only-of-type {\n",
              "        vertical-align: middle;\n",
              "    }\n",
              "\n",
              "    .dataframe tbody tr th {\n",
              "        vertical-align: top;\n",
              "    }\n",
              "\n",
              "    .dataframe thead th {\n",
              "        text-align: right;\n",
              "    }\n",
              "</style>\n",
              "<table border=\"1\" class=\"dataframe\">\n",
              "  <thead>\n",
              "    <tr style=\"text-align: right;\">\n",
              "      <th></th>\n",
              "      <th>Frame0</th>\n",
              "      <th>Speed</th>\n",
              "    </tr>\n",
              "  </thead>\n",
              "  <tbody>\n",
              "    <tr>\n",
              "      <th>0</th>\n",
              "      <td>frame0.jpg</td>\n",
              "      <td>28.105569</td>\n",
              "    </tr>\n",
              "    <tr>\n",
              "      <th>1</th>\n",
              "      <td>frame1.jpg</td>\n",
              "      <td>28.105569</td>\n",
              "    </tr>\n",
              "    <tr>\n",
              "      <th>2</th>\n",
              "      <td>frame2.jpg</td>\n",
              "      <td>28.106527</td>\n",
              "    </tr>\n",
              "    <tr>\n",
              "      <th>3</th>\n",
              "      <td>frame3.jpg</td>\n",
              "      <td>28.130404</td>\n",
              "    </tr>\n",
              "    <tr>\n",
              "      <th>4</th>\n",
              "      <td>frame4.jpg</td>\n",
              "      <td>28.109243</td>\n",
              "    </tr>\n",
              "  </tbody>\n",
              "</table>\n",
              "</div>"
            ],
            "text/plain": [
              "       Frame0      Speed\n",
              "0  frame0.jpg  28.105569\n",
              "1  frame1.jpg  28.105569\n",
              "2  frame2.jpg  28.106527\n",
              "3  frame3.jpg  28.130404\n",
              "4  frame4.jpg  28.109243"
            ]
          },
          "metadata": {
            "tags": []
          },
          "execution_count": 22
        }
      ]
    },
    {
      "cell_type": "code",
      "metadata": {
        "id": "oDhY82zGHdJg",
        "colab_type": "code",
        "outputId": "d8ac5bab-4a47-4bab-cfa6-a7d9c8cd0874",
        "colab": {
          "base_uri": "https://localhost:8080/",
          "height": 312
        }
      },
      "source": [
        "# Visualizing the Speed\n",
        "plt.plot(labels[\"Speed\"])\n",
        "plt.title(\"Speed vs Frame\")\n",
        "plt.xlabel(\"Frame\")\n",
        "plt.ylabel(\"Speed\")"
      ],
      "execution_count": 0,
      "outputs": [
        {
          "output_type": "execute_result",
          "data": {
            "text/plain": [
              "Text(0, 0.5, 'Speed')"
            ]
          },
          "metadata": {
            "tags": []
          },
          "execution_count": 13
        },
        {
          "output_type": "display_data",
          "data": {
            "image/png": "[encoded data removed]",
            "text/plain": [
              "<Figure size 432x288 with 1 Axes>"
            ]
          },
          "metadata": {
            "tags": []
          }
        }
      ]
    },
    {
      "cell_type": "code",
      "metadata": {
        "id": "VQFvHTgTKtBu",
        "colab_type": "code",
        "outputId": "ad36666f-4ff1-474d-f383-174db01edd57",
        "colab": {
          "base_uri": "https://localhost:8080/",
          "height": 204
        }
      },
      "source": [
        "fname1 = fname[1:]\n",
        "fname1.append(\"frame20400.jpg\")\n",
        "labels.insert(1, \"Frame1\", fname1)\n",
        "labels.head()"
      ],
      "execution_count": 0,
      "outputs": [
        {
          "output_type": "execute_result",
          "data": {
            "text/html": [
              "<div>\n",
              "<style scoped>\n",
              "    .dataframe tbody tr th:only-of-type {\n",
              "        vertical-align: middle;\n",
              "    }\n",
              "\n",
              "    .dataframe tbody tr th {\n",
              "        vertical-align: top;\n",
              "    }\n",
              "\n",
              "    .dataframe thead th {\n",
              "        text-align: right;\n",
              "    }\n",
              "</style>\n",
              "<table border=\"1\" class=\"dataframe\">\n",
              "  <thead>\n",
              "    <tr style=\"text-align: right;\">\n",
              "      <th></th>\n",
              "      <th>Frame0</th>\n",
              "      <th>Frame1</th>\n",
              "      <th>Speed</th>\n",
              "    </tr>\n",
              "  </thead>\n",
              "  <tbody>\n",
              "    <tr>\n",
              "      <th>0</th>\n",
              "      <td>frame0.jpg</td>\n",
              "      <td>frame1.jpg</td>\n",
              "      <td>28.105569</td>\n",
              "    </tr>\n",
              "    <tr>\n",
              "      <th>1</th>\n",
              "      <td>frame1.jpg</td>\n",
              "      <td>frame2.jpg</td>\n",
              "      <td>28.105569</td>\n",
              "    </tr>\n",
              "    <tr>\n",
              "      <th>2</th>\n",
              "      <td>frame2.jpg</td>\n",
              "      <td>frame3.jpg</td>\n",
              "      <td>28.106527</td>\n",
              "    </tr>\n",
              "    <tr>\n",
              "      <th>3</th>\n",
              "      <td>frame3.jpg</td>\n",
              "      <td>frame4.jpg</td>\n",
              "      <td>28.130404</td>\n",
              "    </tr>\n",
              "    <tr>\n",
              "      <th>4</th>\n",
              "      <td>frame4.jpg</td>\n",
              "      <td>frame5.jpg</td>\n",
              "      <td>28.109243</td>\n",
              "    </tr>\n",
              "  </tbody>\n",
              "</table>\n",
              "</div>"
            ],
            "text/plain": [
              "       Frame0      Frame1      Speed\n",
              "0  frame0.jpg  frame1.jpg  28.105569\n",
              "1  frame1.jpg  frame2.jpg  28.105569\n",
              "2  frame2.jpg  frame3.jpg  28.106527\n",
              "3  frame3.jpg  frame4.jpg  28.130404\n",
              "4  frame4.jpg  frame5.jpg  28.109243"
            ]
          },
          "metadata": {
            "tags": []
          },
          "execution_count": 23
        }
      ]
    },
    {
      "cell_type": "code",
      "metadata": {
        "id": "fl0DHwKYK-M_",
        "colab_type": "code",
        "outputId": "68c65310-0672-4403-f84f-0e7cc34a0f53",
        "colab": {
          "base_uri": "https://localhost:8080/",
          "height": 204
        }
      },
      "source": [
        "labels.tail()"
      ],
      "execution_count": 0,
      "outputs": [
        {
          "output_type": "execute_result",
          "data": {
            "text/html": [
              "<div>\n",
              "<style scoped>\n",
              "    .dataframe tbody tr th:only-of-type {\n",
              "        vertical-align: middle;\n",
              "    }\n",
              "\n",
              "    .dataframe tbody tr th {\n",
              "        vertical-align: top;\n",
              "    }\n",
              "\n",
              "    .dataframe thead th {\n",
              "        text-align: right;\n",
              "    }\n",
              "</style>\n",
              "<table border=\"1\" class=\"dataframe\">\n",
              "  <thead>\n",
              "    <tr style=\"text-align: right;\">\n",
              "      <th></th>\n",
              "      <th>Frame0</th>\n",
              "      <th>Frame1</th>\n",
              "      <th>Speed</th>\n",
              "    </tr>\n",
              "  </thead>\n",
              "  <tbody>\n",
              "    <tr>\n",
              "      <th>20395</th>\n",
              "      <td>frame20395.jpg</td>\n",
              "      <td>frame20396.jpg</td>\n",
              "      <td>2.329180</td>\n",
              "    </tr>\n",
              "    <tr>\n",
              "      <th>20396</th>\n",
              "      <td>frame20396.jpg</td>\n",
              "      <td>frame20397.jpg</td>\n",
              "      <td>2.289795</td>\n",
              "    </tr>\n",
              "    <tr>\n",
              "      <th>20397</th>\n",
              "      <td>frame20397.jpg</td>\n",
              "      <td>frame20398.jpg</td>\n",
              "      <td>2.292917</td>\n",
              "    </tr>\n",
              "    <tr>\n",
              "      <th>20398</th>\n",
              "      <td>frame20398.jpg</td>\n",
              "      <td>frame20399.jpg</td>\n",
              "      <td>2.260600</td>\n",
              "    </tr>\n",
              "    <tr>\n",
              "      <th>20399</th>\n",
              "      <td>frame20399.jpg</td>\n",
              "      <td>frame20400.jpg</td>\n",
              "      <td>2.206759</td>\n",
              "    </tr>\n",
              "  </tbody>\n",
              "</table>\n",
              "</div>"
            ],
            "text/plain": [
              "               Frame0          Frame1     Speed\n",
              "20395  frame20395.jpg  frame20396.jpg  2.329180\n",
              "20396  frame20396.jpg  frame20397.jpg  2.289795\n",
              "20397  frame20397.jpg  frame20398.jpg  2.292917\n",
              "20398  frame20398.jpg  frame20399.jpg  2.260600\n",
              "20399  frame20399.jpg  frame20400.jpg  2.206759"
            ]
          },
          "metadata": {
            "tags": []
          },
          "execution_count": 24
        }
      ]
    },
    {
      "cell_type": "code",
      "metadata": {
        "id": "FC9hinm0LY6G",
        "colab_type": "code",
        "outputId": "f8455c83-6291-47cd-ea2f-e1a2d7facf3d",
        "colab": {
          "base_uri": "https://localhost:8080/",
          "height": 204
        }
      },
      "source": [
        "# Deleting the last row\n",
        "labels.drop(labels.tail(1).index,inplace=True) # drop last row\n",
        "labels.tail()"
      ],
      "execution_count": 0,
      "outputs": [
        {
          "output_type": "execute_result",
          "data": {
            "text/html": [
              "<div>\n",
              "<style scoped>\n",
              "    .dataframe tbody tr th:only-of-type {\n",
              "        vertical-align: middle;\n",
              "    }\n",
              "\n",
              "    .dataframe tbody tr th {\n",
              "        vertical-align: top;\n",
              "    }\n",
              "\n",
              "    .dataframe thead th {\n",
              "        text-align: right;\n",
              "    }\n",
              "</style>\n",
              "<table border=\"1\" class=\"dataframe\">\n",
              "  <thead>\n",
              "    <tr style=\"text-align: right;\">\n",
              "      <th></th>\n",
              "      <th>Frame0</th>\n",
              "      <th>Frame1</th>\n",
              "      <th>Speed</th>\n",
              "    </tr>\n",
              "  </thead>\n",
              "  <tbody>\n",
              "    <tr>\n",
              "      <th>20394</th>\n",
              "      <td>frame20394.jpg</td>\n",
              "      <td>frame20395.jpg</td>\n",
              "      <td>2.364811</td>\n",
              "    </tr>\n",
              "    <tr>\n",
              "      <th>20395</th>\n",
              "      <td>frame20395.jpg</td>\n",
              "      <td>frame20396.jpg</td>\n",
              "      <td>2.329180</td>\n",
              "    </tr>\n",
              "    <tr>\n",
              "      <th>20396</th>\n",
              "      <td>frame20396.jpg</td>\n",
              "      <td>frame20397.jpg</td>\n",
              "      <td>2.289795</td>\n",
              "    </tr>\n",
              "    <tr>\n",
              "      <th>20397</th>\n",
              "      <td>frame20397.jpg</td>\n",
              "      <td>frame20398.jpg</td>\n",
              "      <td>2.292917</td>\n",
              "    </tr>\n",
              "    <tr>\n",
              "      <th>20398</th>\n",
              "      <td>frame20398.jpg</td>\n",
              "      <td>frame20399.jpg</td>\n",
              "      <td>2.260600</td>\n",
              "    </tr>\n",
              "  </tbody>\n",
              "</table>\n",
              "</div>"
            ],
            "text/plain": [
              "               Frame0          Frame1     Speed\n",
              "20394  frame20394.jpg  frame20395.jpg  2.364811\n",
              "20395  frame20395.jpg  frame20396.jpg  2.329180\n",
              "20396  frame20396.jpg  frame20397.jpg  2.289795\n",
              "20397  frame20397.jpg  frame20398.jpg  2.292917\n",
              "20398  frame20398.jpg  frame20399.jpg  2.260600"
            ]
          },
          "metadata": {
            "tags": []
          },
          "execution_count": 25
        }
      ]
    },
    {
      "cell_type": "code",
      "metadata": {
        "id": "WRg_PlGVekGU",
        "colab_type": "code",
        "colab": {}
      },
      "source": [
        "# Saving the dataframe\n",
        "labels.to_csv(\"/content/gdrive/My Drive/Colab Notebooks/SpeedChallengeData/data/labels.csv\")"
      ],
      "execution_count": 0,
      "outputs": []
    },
    {
      "cell_type": "code",
      "metadata": {
        "id": "f2S6qodlUvPG",
        "colab_type": "code",
        "colab": {}
      },
      "source": [
        "import pandas as pd\n",
        "import os\n",
        "import matplotlib.pyplot as plt\n",
        "import numpy as np\n",
        "from torchvision import transforms\n",
        "from torch.utils.data.dataset import Dataset\n",
        "from torch.utils.data import DataLoader\n",
        "import cv2\n",
        "import torch\n",
        "import torch.nn as nn\n",
        "import torch.nn.functional as F\n",
        "import torch.optim as optim"
      ],
      "execution_count": 0,
      "outputs": []
    },
    {
      "cell_type": "code",
      "metadata": {
        "id": "66jpVN_cf7m5",
        "colab_type": "code",
        "outputId": "eab806ea-6baf-4d58-b44b-0ee1b55d28a2",
        "colab": {
          "base_uri": "https://localhost:8080/",
          "height": 204
        }
      },
      "source": [
        "# Read the labels dataframe\n",
        "labels = pd.read_csv(\"/content/labels.csv\")\n",
        "labels.drop(columns=[\"Unnamed: 0\"], inplace=True)\n",
        "labels.head()"
      ],
      "execution_count": 0,
      "outputs": [
        {
          "output_type": "execute_result",
          "data": {
            "text/html": [
              "<div>\n",
              "<style scoped>\n",
              "    .dataframe tbody tr th:only-of-type {\n",
              "        vertical-align: middle;\n",
              "    }\n",
              "\n",
              "    .dataframe tbody tr th {\n",
              "        vertical-align: top;\n",
              "    }\n",
              "\n",
              "    .dataframe thead th {\n",
              "        text-align: right;\n",
              "    }\n",
              "</style>\n",
              "<table border=\"1\" class=\"dataframe\">\n",
              "  <thead>\n",
              "    <tr style=\"text-align: right;\">\n",
              "      <th></th>\n",
              "      <th>Frame0</th>\n",
              "      <th>Frame1</th>\n",
              "      <th>Speed</th>\n",
              "    </tr>\n",
              "  </thead>\n",
              "  <tbody>\n",
              "    <tr>\n",
              "      <th>0</th>\n",
              "      <td>frame0.jpg</td>\n",
              "      <td>frame1.jpg</td>\n",
              "      <td>28.105569</td>\n",
              "    </tr>\n",
              "    <tr>\n",
              "      <th>1</th>\n",
              "      <td>frame1.jpg</td>\n",
              "      <td>frame2.jpg</td>\n",
              "      <td>28.105569</td>\n",
              "    </tr>\n",
              "    <tr>\n",
              "      <th>2</th>\n",
              "      <td>frame2.jpg</td>\n",
              "      <td>frame3.jpg</td>\n",
              "      <td>28.106527</td>\n",
              "    </tr>\n",
              "    <tr>\n",
              "      <th>3</th>\n",
              "      <td>frame3.jpg</td>\n",
              "      <td>frame4.jpg</td>\n",
              "      <td>28.130404</td>\n",
              "    </tr>\n",
              "    <tr>\n",
              "      <th>4</th>\n",
              "      <td>frame4.jpg</td>\n",
              "      <td>frame5.jpg</td>\n",
              "      <td>28.109243</td>\n",
              "    </tr>\n",
              "  </tbody>\n",
              "</table>\n",
              "</div>"
            ],
            "text/plain": [
              "       Frame0      Frame1      Speed\n",
              "0  frame0.jpg  frame1.jpg  28.105569\n",
              "1  frame1.jpg  frame2.jpg  28.105569\n",
              "2  frame2.jpg  frame3.jpg  28.106527\n",
              "3  frame3.jpg  frame4.jpg  28.130404\n",
              "4  frame4.jpg  frame5.jpg  28.109243"
            ]
          },
          "metadata": {
            "tags": []
          },
          "execution_count": 89
        }
      ]
    },
    {
      "cell_type": "code",
      "metadata": {
        "id": "EEk2DaKIemlC",
        "colab_type": "code",
        "colab": {}
      },
      "source": [
        "from sklearn.model_selection import train_test_split\n",
        "\n",
        "# Splitting the dataset\n",
        "train, val = train_test_split(labels, test_size=0.2)"
      ],
      "execution_count": 0,
      "outputs": []
    },
    {
      "cell_type": "code",
      "metadata": {
        "id": "53EDzXrbene3",
        "colab_type": "code",
        "colab": {}
      },
      "source": [
        "class CustomDatasetFromCSV(Dataset):\n",
        "    # def __init__(self, csv_path, height, width, transform=None):\n",
        "    def __init__(self, csv_df, img_dir, transform=None):    \n",
        "        self.data = csv_df\n",
        "        self.img_dir = img_dir\n",
        "        self.labels = np.asarray(self.data.iloc[:, -1])\n",
        "        # self.height = height\n",
        "        # self.width = width\n",
        "        self.transform = transform\n",
        "\n",
        "    def __getitem__(self, index):\n",
        "        speed = self.labels[index]\n",
        "        img1 = cv2.imread(os.path.join(self.img_dir, self.data.iloc[index,0]))\n",
        "        img2 = cv2.imread(os.path.join(self.img_dir, self.data.iloc[index,1]))\n",
        "        img = {\"img1\" : img1, \"img2\" : img2, \"flow\": None}\n",
        "        # Transform image to tensor\n",
        "        if self.transform is not None:\n",
        "            img = self.transform(img)\n",
        "            img1 = img[\"img1\"]\n",
        "            flow = img[\"flow\"]\n",
        "        # Return image and the label\n",
        "        return (img1, flow, speed)\n",
        "\n",
        "    def __len__(self):\n",
        "        return len(self.data.index)"
      ],
      "execution_count": 0,
      "outputs": []
    },
    {
      "cell_type": "code",
      "metadata": {
        "id": "I67WNNwSdFc0",
        "colab_type": "code",
        "colab": {}
      },
      "source": [
        "class BGR2RGB(object):\n",
        "    def __call__(self, img):\n",
        "        img1 = img[\"img1\"]\n",
        "        img2 = img[\"img2\"]\n",
        "        img1 = cv2.cvtColor(img1, cv2.COLOR_BGR2RGB)\n",
        "        img2 = cv2.cvtColor(img2, cv2.COLOR_BGR2RGB)\n",
        "        img1 = cv2.normalize(img1, None, alpha=0, beta=1, norm_type=cv2.NORM_MINMAX, dtype=cv2.CV_32F)\n",
        "        img2 = cv2.normalize(img2, None, alpha=0, beta=1, norm_type=cv2.NORM_MINMAX, dtype=cv2.CV_32F)\n",
        "        img = {\"img1\" : img1, \"img2\" : img2, \"flow\": None}\n",
        "        return img\n",
        "        \n",
        "class BrightnessPerturb(object):\n",
        "  def __call__(self, img):\n",
        "    img1 = img[\"img1\"]\n",
        "    img2 = img[\"img2\"]\n",
        "    bright_factor = 0.2 + np.random.uniform()\n",
        "    hsv1 = cv2.cvtColor(img1, cv2.COLOR_RGB2HSV)\n",
        "    hsv2 = cv2.cvtColor(img2, cv2.COLOR_RGB2HSV)\n",
        "    # perform brightness augmentation only on the second channel\n",
        "    hsv1[:,:,2] = hsv1[:,:,2] * bright_factor\n",
        "    hsv2[:,:,2] = hsv2[:,:,2] * bright_factor\n",
        "    \n",
        "    # change back to RGB\n",
        "    img = {\"img1\" : cv2.cvtColor(hsv1, cv2.COLOR_HSV2RGB), \"img2\" : cv2.cvtColor(hsv2, cv2.COLOR_HSV2RGB), \"flow\": None}\n",
        "    return img\n",
        "\n",
        "class Resize(object):\n",
        "  def __call__(self, img):\n",
        "    img1 = img[\"img1\"]\n",
        "    img2 = img[\"img2\"]\n",
        "    # Crop out sky (top) (100px) and black right part (-90px)\n",
        "    img1_crop = img1[100:440, :]\n",
        "    img2_crop = img2[100:440, :]\n",
        "    \n",
        "    img1 = cv2.resize(img1_crop, (220, 66), interpolation = cv2.INTER_AREA)\n",
        "    img2 = cv2.resize(img2_crop, (220, 66), interpolation = cv2.INTER_AREA)\n",
        "    \n",
        "    img = {\"img1\" : img1, \"img2\" : img2, \"flow\": None}\n",
        "    return img\n",
        "\n",
        "class OpticalFlow(object):\n",
        "  def __call__(self, img):\n",
        "    img1 = img[\"img1\"]\n",
        "    img2 = img[\"img2\"]\n",
        "\n",
        "    img1_gray = np.float32(cv2.cvtColor(img1, cv2.COLOR_RGB2GRAY))\n",
        "    img2_gray = np.float32(cv2.cvtColor(img2, cv2.COLOR_RGB2GRAY))\n",
        "    \n",
        "    # hsv = np.zeros((66, 220, 3))\n",
        "    # # set saturation\n",
        "    # hsv[:,:,1] = cv2.cvtColor(image_next, cv2.COLOR_RGB2HSV)[:,:,1]\n",
        " \n",
        "    # Flow Parameters\n",
        "#     flow_mat = cv2.CV_32FC2\n",
        "    flow_mat = None\n",
        "    image_scale = 0.5\n",
        "    nb_images = 1\n",
        "    win_size = 15\n",
        "    nb_iterations = 2\n",
        "    deg_expansion = 5\n",
        "    STD = 1.3\n",
        "    extra = 0\n",
        "\n",
        "    # obtain dense optical flow paramters\n",
        "    flow = cv2.calcOpticalFlowFarneback(img1_gray, img2_gray,  \n",
        "                                        flow_mat, \n",
        "                                        image_scale, \n",
        "                                        nb_images, \n",
        "                                        win_size, \n",
        "                                        nb_iterations, \n",
        "                                        deg_expansion, \n",
        "                                        STD, \n",
        "                                        0)\n",
        "    \n",
        "    flow_mag = np.sqrt(flow[:,:,0]**2 + flow[:,:,1]**2)\n",
        "    flow_mag = np.expand_dims(flow_mag, axis=0)\n",
        "    img = {\"img1\" : img1, \"img2\" : img2, \"flow\" : flow_mag}\n",
        "    return img\n",
        "\n",
        "class ToTensor(object):\n",
        "    def __call__(self, img):\n",
        "        img1 = img[\"img1\"]\n",
        "        img2 = img[\"img2\"]\n",
        "        flow = img[\"flow\"]\n",
        "        # swap color axis because\n",
        "        # numpy image: H x W x C\n",
        "        # torch image: C X H X W\n",
        "        img1 = img1.transpose((2, 0, 1))\n",
        "        img = {\"img1\" : torch.from_numpy(img1), \"img2\" : torch.from_numpy(img2), \"flow\" : torch.from_numpy(flow)}\n",
        "        return img"
      ],
      "execution_count": 0,
      "outputs": []
    },
    {
      "cell_type": "code",
      "metadata": {
        "id": "KI5nXK_roY1J",
        "colab_type": "code",
        "outputId": "745bfaf3-a561-40ab-c3d1-342b213c0f5f",
        "colab": {
          "base_uri": "https://localhost:8080/",
          "height": 201
        }
      },
      "source": [
        "train_dir = \"/content/train/\"\n",
        "transform = transforms.Compose([BGR2RGB(), BrightnessPerturb(), Resize(), OpticalFlow(), ToTensor()])\n",
        "train_dataset = CustomDatasetFromCSV(train, train_dir, transform)"
      ],
      "execution_count": 0,
      "outputs": [
        {
          "output_type": "error",
          "ename": "NameError",
          "evalue": "ignored",
          "traceback": [
            "\u001b[0;31m---------------------------------------------------------------------------\u001b[0m",
            "\u001b[0;31mNameError\u001b[0m                                 Traceback (most recent call last)",
            "\u001b[0;32m<ipython-input-33-d365b2879612>\u001b[0m in \u001b[0;36m<module>\u001b[0;34m()\u001b[0m\n\u001b[1;32m      1\u001b[0m \u001b[0mtrain_dir\u001b[0m \u001b[0;34m=\u001b[0m \u001b[0;34m\"/content/train/\"\u001b[0m\u001b[0;34m\u001b[0m\u001b[0;34m\u001b[0m\u001b[0m\n\u001b[1;32m      2\u001b[0m \u001b[0mtransform\u001b[0m \u001b[0;34m=\u001b[0m \u001b[0mtransforms\u001b[0m\u001b[0;34m.\u001b[0m\u001b[0mCompose\u001b[0m\u001b[0;34m(\u001b[0m\u001b[0;34m[\u001b[0m\u001b[0mBGR2RGB\u001b[0m\u001b[0;34m(\u001b[0m\u001b[0;34m)\u001b[0m\u001b[0;34m,\u001b[0m \u001b[0mBrightnessPerturb\u001b[0m\u001b[0;34m(\u001b[0m\u001b[0;34m)\u001b[0m\u001b[0;34m,\u001b[0m \u001b[0mResize\u001b[0m\u001b[0;34m(\u001b[0m\u001b[0;34m)\u001b[0m\u001b[0;34m,\u001b[0m \u001b[0mOpticalFlow\u001b[0m\u001b[0;34m(\u001b[0m\u001b[0;34m)\u001b[0m\u001b[0;34m,\u001b[0m \u001b[0mToTensor\u001b[0m\u001b[0;34m(\u001b[0m\u001b[0;34m)\u001b[0m\u001b[0;34m]\u001b[0m\u001b[0;34m)\u001b[0m\u001b[0;34m\u001b[0m\u001b[0;34m\u001b[0m\u001b[0m\n\u001b[0;32m----> 3\u001b[0;31m \u001b[0mtrain_dataset\u001b[0m \u001b[0;34m=\u001b[0m \u001b[0mCustomDatasetFromCSV\u001b[0m\u001b[0;34m(\u001b[0m\u001b[0mtrain\u001b[0m\u001b[0;34m,\u001b[0m \u001b[0mtrain_dir\u001b[0m\u001b[0;34m,\u001b[0m \u001b[0mtransform\u001b[0m\u001b[0;34m)\u001b[0m\u001b[0;34m\u001b[0m\u001b[0;34m\u001b[0m\u001b[0m\n\u001b[0m",
            "\u001b[0;31mNameError\u001b[0m: name 'train' is not defined"
          ]
        }
      ]
    },
    {
      "cell_type": "code",
      "metadata": {
        "id": "CIF7Qf3x7H42",
        "colab_type": "code",
        "colab": {}
      },
      "source": [
        "val_dir = \"/content/train/\"\n",
        "transform = transforms.Compose([BGR2RGB(), BrightnessPerturb(), Resize(), OpticalFlow(), ToTensor()])\n",
        "val_dataset = CustomDatasetFromCSV(val, val_dir, transform)"
      ],
      "execution_count": 0,
      "outputs": []
    },
    {
      "cell_type": "code",
      "metadata": {
        "id": "oRi3oLpRpbMu",
        "colab_type": "code",
        "colab": {}
      },
      "source": [
        "train_loader = DataLoader(train_dataset,\n",
        "                          batch_size=32,\n",
        "                          shuffle=True,\n",
        "                          num_workers=4 # 1 for CUDA\n",
        "                         )\n",
        "\n",
        "val_loader = DataLoader(val_dataset,\n",
        "                          batch_size=32,\n",
        "                          shuffle=True,\n",
        "                          num_workers=4 # 1 for CUDA\n",
        "                         )"
      ],
      "execution_count": 0,
      "outputs": []
    },
    {
      "cell_type": "code",
      "metadata": {
        "id": "dPgZHCJHEm-D",
        "colab_type": "code",
        "colab": {}
      },
      "source": [
        "class Net(nn.Module):\n",
        "    def __init__(self):\n",
        "        super(Net, self).__init__()\n",
        "        self.conv1 = nn.Conv2d(4, 24, 5)\n",
        "        self.conv2 = nn.Conv2d(24, 36, 5)\n",
        "        self.conv3 = nn.Conv2d(36, 48, 3)\n",
        "        self.conv4 = nn.Conv2d(48, 64, 3)\n",
        "        self.conv5 = nn.Conv2d(64, 64, 3)\n",
        "\n",
        "        self.fc1 = nn.Linear(64 * 21 * 1, 100)\n",
        "        self.fc2 = nn.Linear(100, 50)\n",
        "        self.fc3 = nn.Linear(50, 10)\n",
        "        self.fc4 = nn.Linear(10, 1)\n",
        "\n",
        "        self.pool = nn.MaxPool2d(2, 2)\n",
        "\n",
        "    def forward(self, x):\n",
        "        x = self.pool(F.leaky_relu(self.conv1(x)))\n",
        "        x = self.pool(F.leaky_relu(self.conv2(x)))\n",
        "        x = self.pool(F.leaky_relu(self.conv3(x)))\n",
        "        x = F.leaky_relu(self.conv4(x))\n",
        "        x = F.leaky_relu(self.conv5(x))\n",
        "\n",
        "        x = x.view(-1, 64 * 21 * 1)\n",
        "        x = F.relu(self.fc1(x))\n",
        "        x = F.relu(self.fc2(x))\n",
        "        x = F.relu(self.fc3(x))\n",
        "        x = self.fc4(x)\n",
        "        return x"
      ],
      "execution_count": 0,
      "outputs": []
    },
    {
      "cell_type": "code",
      "metadata": {
        "id": "WRMzHCPdB9OV",
        "colab_type": "code",
        "outputId": "ce8d6421-e416-4e2f-fdee-40e70fd96f77",
        "colab": {
          "base_uri": "https://localhost:8080/",
          "height": 34
        }
      },
      "source": [
        "# for batch_idx, (img, flow, speed) in enumerate(train_loader):\n",
        "#   print(img.shape)\n",
        "#   print(flow.shape)\n",
        "#   print(speed)\n",
        "#   print(batch_idx)\n",
        "#   break\n",
        "\n",
        "# print(torch.cuda.is_available())\n",
        "import warnings\n",
        "warnings.filterwarnings('ignore')\n",
        "\n",
        "device = torch.device('cuda')\n",
        "print(device)"
      ],
      "execution_count": 0,
      "outputs": [
        {
          "output_type": "stream",
          "text": [
            "cuda\n"
          ],
          "name": "stdout"
        }
      ]
    },
    {
      "cell_type": "code",
      "metadata": {
        "id": "YK7ZK_dp4612",
        "colab_type": "code",
        "colab": {}
      },
      "source": [
        "net = Net().to(device)\n",
        "criterion = nn.MSELoss()\n",
        "optimizer = optim.Adam(net.parameters(), lr=0.001, betas=(0.9, 0.999), eps=1e-08, weight_decay=0, amsgrad=False)\n",
        "scheduler = optim.lr_scheduler.StepLR(optimizer, step_size=2, gamma=0.5, last_epoch=-1)"
      ],
      "execution_count": 0,
      "outputs": []
    },
    {
      "cell_type": "code",
      "metadata": {
        "id": "CCjRBjNqGrRZ",
        "colab_type": "code",
        "outputId": "e6387960-de42-457c-d7d5-52a304a165ae",
        "colab": {
          "base_uri": "https://localhost:8080/",
          "height": 1000
        }
      },
      "source": [
        "num_epochs = 10\n",
        "train_loss = []\n",
        "val_loss = []\n",
        "\n",
        "for epoch in range(num_epochs):  # loop over the dataset multiple times\n",
        "\n",
        "    running_loss = 0.0\n",
        "    net.train()\n",
        "\n",
        "    for i, data in enumerate(train_loader):\n",
        "      # get the inputs; data is a list of [inputs, labels]\n",
        "      (img, flow, speed) = data\n",
        "      # zero the parameter gradients\n",
        "      optimizer.zero_grad()\n",
        "\n",
        "      # Concatenating image and flow\n",
        "      inputs = torch.cat((img, flow), 1).to(device)\n",
        "      speed = speed.unsqueeze(1)\n",
        "      speed = speed.to(device)\n",
        "\n",
        "      # forward + backward + optimize\n",
        "      outputs = net(inputs)\n",
        "      loss = criterion(outputs, speed)\n",
        "\n",
        "      loss.backward()\n",
        "      optimizer.step()\n",
        "\n",
        "      # print statistics\n",
        "      running_loss += loss.item()\n",
        "      if (i+1) % 50 == 0:    # print every 2000 mini-batches\n",
        "          print('[%d, %5d] Training loss: %.3f' %\n",
        "                (epoch + 1, i + 1, running_loss / 50))\n",
        "          train_loss.append(running_loss)\n",
        "          running_loss = 0.0\n",
        "\n",
        "    net.eval()\n",
        "\n",
        "    running_loss = 0.0\n",
        "    for i, data in enumerate(val_loader):\n",
        "      # get the inputs; data is a list of [inputs, labels]\n",
        "      (img, flow, speed) = data\n",
        "\n",
        "      # Concatenating image and flow\n",
        "      inputs = torch.cat((img, flow), 1).to(device)\n",
        "      speed = speed.unsqueeze(1)\n",
        "      speed = speed.to(device)\n",
        "\n",
        "      # forward + backward + optimize\n",
        "      outputs = net(inputs)\n",
        "      loss = criterion(outputs, speed)\n",
        "\n",
        "      running_loss += loss.item()\n",
        "    \n",
        "    running_loss = running_loss / 127.0\n",
        "\n",
        "    val_loss.append(running_loss)\n",
        "\n",
        "    print(\"Validation Loss: %.3f\" % running_loss)\n",
        "    \n",
        "    if((epoch+1) % 2 == 0):\n",
        "      # checkpoint = {'model': net(),\n",
        "      #               'state_dict': net.state_dict(),\n",
        "      #               'optimizer' : optimizer.state_dict()}\n",
        "      torch.save(net.state_dict(), '/content/model.pt')\n",
        "      print(\"The model has been saved\")\n",
        "      # torch.save(checkpoint, '/content/checkpoint.pth')\n",
        "         \n",
        "    scheduler.step()\n",
        "\n",
        "files.download('/content/model.pt') \n",
        "print('Finished Training')"
      ],
      "execution_count": 0,
      "outputs": [
        {
          "output_type": "stream",
          "text": [
            "[1,    50] Training loss: 121.450\n",
            "[1,   100] Training loss: 68.834\n",
            "[1,   150] Training loss: 56.217\n",
            "[1,   200] Training loss: 49.252\n",
            "[1,   250] Training loss: 44.190\n",
            "[1,   300] Training loss: 39.214\n",
            "[1,   350] Training loss: 34.219\n",
            "[1,   400] Training loss: 32.422\n",
            "[1,   450] Training loss: 26.301\n",
            "[1,   500] Training loss: 24.601\n",
            "Validation Loss: 20.089\n",
            "[2,    50] Training loss: 17.803\n",
            "[2,   100] Training loss: 17.048\n",
            "[2,   150] Training loss: 19.429\n",
            "[2,   200] Training loss: 17.655\n",
            "[2,   250] Training loss: 13.253\n",
            "[2,   300] Training loss: 12.958\n",
            "[2,   350] Training loss: 10.487\n",
            "[2,   400] Training loss: 10.337\n",
            "[2,   450] Training loss: 9.676\n",
            "[2,   500] Training loss: 8.140\n",
            "Validation Loss: 7.903\n",
            "The model has been saved\n",
            "[3,    50] Training loss: 6.255\n",
            "[3,   100] Training loss: 6.235\n",
            "[3,   150] Training loss: 5.394\n",
            "[3,   200] Training loss: 5.443\n",
            "[3,   250] Training loss: 5.103\n",
            "[3,   300] Training loss: 5.003\n",
            "[3,   350] Training loss: 5.261\n",
            "[3,   400] Training loss: 4.414\n",
            "[3,   450] Training loss: 4.056\n",
            "[3,   500] Training loss: 3.929\n",
            "Validation Loss: 4.848\n",
            "[4,    50] Training loss: 3.788\n",
            "[4,   100] Training loss: 3.389\n",
            "[4,   150] Training loss: 3.706\n",
            "[4,   200] Training loss: 3.348\n",
            "[4,   250] Training loss: 3.092\n",
            "[4,   300] Training loss: 2.927\n",
            "[4,   350] Training loss: 3.528\n",
            "[4,   400] Training loss: 3.245\n",
            "[4,   450] Training loss: 2.771\n",
            "[4,   500] Training loss: 2.669\n",
            "Validation Loss: 2.504\n",
            "The model has been saved\n",
            "[5,    50] Training loss: 2.205\n",
            "[5,   100] Training loss: 2.144\n",
            "[5,   150] Training loss: 2.102\n",
            "[5,   200] Training loss: 1.866\n",
            "[5,   250] Training loss: 2.108\n",
            "[5,   300] Training loss: 1.858\n",
            "[5,   350] Training loss: 1.911\n",
            "[5,   400] Training loss: 1.732\n",
            "[5,   450] Training loss: 1.745\n",
            "[5,   500] Training loss: 1.569\n",
            "Validation Loss: 2.051\n",
            "[6,    50] Training loss: 1.646\n",
            "[6,   100] Training loss: 2.065\n",
            "[6,   150] Training loss: 1.569\n",
            "[6,   200] Training loss: 1.678\n",
            "[6,   250] Training loss: 1.731\n",
            "[6,   300] Training loss: 1.571\n",
            "[6,   350] Training loss: 1.684\n",
            "[6,   400] Training loss: 1.356\n",
            "[6,   450] Training loss: 1.633\n",
            "[6,   500] Training loss: 1.440\n",
            "Validation Loss: 1.477\n",
            "The model has been saved\n",
            "[7,    50] Training loss: 1.267\n",
            "[7,   100] Training loss: 1.386\n",
            "[7,   150] Training loss: 1.340\n",
            "[7,   200] Training loss: 1.101\n",
            "[7,   250] Training loss: 1.236\n",
            "[7,   300] Training loss: 1.121\n",
            "[7,   350] Training loss: 1.080\n",
            "[7,   400] Training loss: 1.108\n",
            "[7,   450] Training loss: 1.201\n",
            "[7,   500] Training loss: 1.192\n",
            "Validation Loss: 1.537\n",
            "[8,    50] Training loss: 1.227\n",
            "[8,   100] Training loss: 1.058\n",
            "[8,   150] Training loss: 1.128\n",
            "[8,   200] Training loss: 1.111\n",
            "[8,   250] Training loss: 1.112\n",
            "[8,   300] Training loss: 1.030\n",
            "[8,   350] Training loss: 1.103\n",
            "[8,   400] Training loss: 0.968\n",
            "[8,   450] Training loss: 1.038\n",
            "[8,   500] Training loss: 1.047\n",
            "Validation Loss: 1.208\n",
            "The model has been saved\n",
            "[9,    50] Training loss: 0.976\n",
            "[9,   100] Training loss: 0.917\n",
            "[9,   150] Training loss: 0.895\n",
            "[9,   200] Training loss: 1.026\n",
            "[9,   250] Training loss: 0.894\n",
            "[9,   300] Training loss: 0.840\n",
            "[9,   350] Training loss: 0.819\n",
            "[9,   400] Training loss: 0.910\n",
            "[9,   450] Training loss: 0.894\n",
            "[9,   500] Training loss: 0.909\n",
            "Validation Loss: 0.884\n",
            "[10,    50] Training loss: 0.882\n",
            "[10,   100] Training loss: 0.761\n",
            "[10,   150] Training loss: 0.784\n",
            "[10,   200] Training loss: 0.859\n",
            "[10,   250] Training loss: 0.787\n",
            "[10,   300] Training loss: 0.880\n",
            "[10,   350] Training loss: 0.860\n",
            "[10,   400] Training loss: 0.849\n",
            "[10,   450] Training loss: 0.853\n",
            "[10,   500] Training loss: 0.763\n",
            "Validation Loss: 0.900\n",
            "The model has been saved\n",
            "Finished Training\n"
          ],
          "name": "stdout"
        }
      ]
    },
    {
      "cell_type": "code",
      "metadata": {
        "id": "3k2855LQM3Ie",
        "colab_type": "code",
        "colab": {}
      },
      "source": [
        "train.to_csv(\"train.csv\")\n",
        "val.to_csv(\"val.csv\")"
      ],
      "execution_count": 0,
      "outputs": []
    },
    {
      "cell_type": "code",
      "metadata": {
        "id": "mmx0uz79R8qO",
        "colab_type": "code",
        "outputId": "feff5bcf-ded0-444e-e37b-bce880e26077",
        "colab": {
          "base_uri": "https://localhost:8080/",
          "height": 34
        }
      },
      "source": [
        "img_og = img_np.transpose(2,3,1,0)\n",
        "img_og.shape"
      ],
      "execution_count": 0,
      "outputs": [
        {
          "output_type": "execute_result",
          "data": {
            "text/plain": [
              "(66, 220, 3, 10)"
            ]
          },
          "metadata": {
            "tags": []
          },
          "execution_count": 52
        }
      ]
    },
    {
      "cell_type": "code",
      "metadata": {
        "id": "maed8NLHSjtS",
        "colab_type": "code",
        "outputId": "5555a585-2e9c-4c75-db38-1897cb6e7d71",
        "colab": {
          "base_uri": "https://localhost:8080/",
          "height": 169
        }
      },
      "source": [
        "plt.imshow(img_og[:,:,:,0])"
      ],
      "execution_count": 0,
      "outputs": [
        {
          "output_type": "execute_result",
          "data": {
            "text/plain": [
              "<matplotlib.image.AxesImage at 0x7f1bb7c5db00>"
            ]
          },
          "metadata": {
            "tags": []
          },
          "execution_count": 53
        },
        {
          "output_type": "display_data",
          "data": {
            "image/png": "[encoded data removed]",
            "text/plain": [
              "<Figure size 432x288 with 1 Axes>"
            ]
          },
          "metadata": {
            "tags": []
          }
        }
      ]
    },
    {
      "cell_type": "code",
      "metadata": {
        "id": "xhh-pUZISpjk",
        "colab_type": "code",
        "outputId": "a876e31a-c5be-4d54-cb64-8cacb25e950d",
        "colab": {
          "base_uri": "https://localhost:8080/",
          "height": 34
        }
      },
      "source": [
        "flow_og = flow_np.transpose(2,3,1,0)\n",
        "flow_og.shape"
      ],
      "execution_count": 0,
      "outputs": [
        {
          "output_type": "execute_result",
          "data": {
            "text/plain": [
              "(66, 220, 1, 10)"
            ]
          },
          "metadata": {
            "tags": []
          },
          "execution_count": 54
        }
      ]
    },
    {
      "cell_type": "code",
      "metadata": {
        "id": "MlTk64e6Sva5",
        "colab_type": "code",
        "outputId": "46badc3a-eb98-44a2-dd97-bb8a0fdf11a8",
        "colab": {
          "base_uri": "https://localhost:8080/",
          "height": 169
        }
      },
      "source": [
        "plt.imshow(flow_og[:,:,0,0], cmap=\"gray\")"
      ],
      "execution_count": 0,
      "outputs": [
        {
          "output_type": "execute_result",
          "data": {
            "text/plain": [
              "<matplotlib.image.AxesImage at 0x7f1bb7c13b70>"
            ]
          },
          "metadata": {
            "tags": []
          },
          "execution_count": 55
        },
        {
          "output_type": "display_data",
          "data": {
            "image/png": "[encoded data removed]",
            "text/plain": [
              "<Figure size 432x288 with 1 Axes>"
            ]
          },
          "metadata": {
            "tags": []
          }
        }
      ]
    },
    {
      "cell_type": "code",
      "metadata": {
        "id": "yBAgEcb9S5wf",
        "colab_type": "code",
        "outputId": "d69e3245-91fc-45e5-c150-8769dc680abd",
        "colab": {
          "base_uri": "https://localhost:8080/",
          "height": 34
        }
      },
      "source": [
        "speed.shape"
      ],
      "execution_count": 0,
      "outputs": [
        {
          "output_type": "execute_result",
          "data": {
            "text/plain": [
              "torch.Size([32])"
            ]
          },
          "metadata": {
            "tags": []
          },
          "execution_count": 78
        }
      ]
    },
    {
      "cell_type": "code",
      "metadata": {
        "id": "j2zM13iWTTsO",
        "colab_type": "code",
        "outputId": "85b2c7f2-e540-4afa-bd5c-7b09b6812ba1",
        "colab": {
          "base_uri": "https://localhost:8080/",
          "height": 34
        }
      },
      "source": [
        "temp = speed.unsqueeze(1)\n",
        "temp.shape"
      ],
      "execution_count": 0,
      "outputs": [
        {
          "output_type": "execute_result",
          "data": {
            "text/plain": [
              "torch.Size([32, 1])"
            ]
          },
          "metadata": {
            "tags": []
          },
          "execution_count": 80
        }
      ]
    },
    {
      "cell_type": "code",
      "metadata": {
        "id": "uvgsJjmrHgLR",
        "colab_type": "code",
        "outputId": "b8b13cf1-65c9-4561-f71b-e284d1ccae92",
        "colab": {
          "base_uri": "https://localhost:8080/",
          "height": 71
        }
      },
      "source": [
        "torch.save(net, '/content/model.ckpt')"
      ],
      "execution_count": 0,
      "outputs": [
        {
          "output_type": "stream",
          "text": [
            "/usr/local/lib/python3.6/dist-packages/torch/serialization.py:256: UserWarning: Couldn't retrieve source code for container of type Net. It won't be checked for correctness upon loading.\n",
            "  \"type \" + obj.__name__ + \". It won't be checked \"\n"
          ],
          "name": "stderr"
        }
      ]
    },
    {
      "cell_type": "code",
      "metadata": {
        "id": "rrPF1dv2PQSv",
        "colab_type": "code",
        "colab": {}
      },
      "source": [
        "import cv2 as cv\n",
        "# Reading the train video\n",
        "vidcap = cv.VideoCapture('/content/gdrive/My Drive/Colab Notebooks/SpeedChallengeData/data/test.mp4')\n",
        "success,image = vidcap.read()\n",
        "count = 0\n",
        "while success:\n",
        "  cv.imwrite(\"/content/test/frame%d.jpg\" % count, image)     # save frame as JPEG file      \n",
        "  success,image = vidcap.read()\n",
        "  # print('Read a new frame: ', success)\n",
        "  count += 1"
      ],
      "execution_count": 0,
      "outputs": []
    },
    {
      "cell_type": "code",
      "metadata": {
        "id": "Z3ZjH9V6FD5l",
        "colab_type": "code",
        "outputId": "24990006-89ad-42f2-836f-8d40e1949a49",
        "colab": {
          "base_uri": "https://localhost:8080/",
          "height": 34
        }
      },
      "source": [
        "import os\n",
        "len(os.listdir(\"/content/test\"))"
      ],
      "execution_count": 0,
      "outputs": [
        {
          "output_type": "execute_result",
          "data": {
            "text/plain": [
              "10798"
            ]
          },
          "metadata": {
            "tags": []
          },
          "execution_count": 4
        }
      ]
    },
    {
      "cell_type": "code",
      "metadata": {
        "id": "qEC-gh7OFbXG",
        "colab_type": "code",
        "colab": {}
      },
      "source": [
        "import pandas as pd\n",
        "\n",
        "test = pd.DataFrame(columns=['Frame0','Frame1','Speed'])"
      ],
      "execution_count": 0,
      "outputs": []
    },
    {
      "cell_type": "code",
      "metadata": {
        "id": "NWvIAOWAGIm7",
        "colab_type": "code",
        "colab": {}
      },
      "source": [
        "frame0 = []\n",
        "frame1 = []\n",
        "speed = []\n",
        "\n",
        "for i in range(len(os.listdir(\"/content/test/\"))):\n",
        "  frame0.append(\"frame\" + str(i) + \".jpg\")\n",
        "  frame1.append(\"frame\" + str(i+1) + \".jpg\")\n",
        "  speed.append(0)"
      ],
      "execution_count": 0,
      "outputs": []
    },
    {
      "cell_type": "code",
      "metadata": {
        "id": "CkVJQYYrGJ1r",
        "colab_type": "code",
        "colab": {}
      },
      "source": [
        "test[\"Frame0\"] = frame0\n",
        "test[\"Frame1\"] = frame1\n",
        "test[\"Speed\"] = speed"
      ],
      "execution_count": 0,
      "outputs": []
    },
    {
      "cell_type": "code",
      "metadata": {
        "id": "91rCP3ZBGRL0",
        "colab_type": "code",
        "outputId": "e984c703-c1d0-4607-882c-21ebbc20dae1",
        "colab": {
          "base_uri": "https://localhost:8080/",
          "height": 204
        }
      },
      "source": [
        "test.head()"
      ],
      "execution_count": 0,
      "outputs": [
        {
          "output_type": "execute_result",
          "data": {
            "text/html": [
              "<div>\n",
              "<style scoped>\n",
              "    .dataframe tbody tr th:only-of-type {\n",
              "        vertical-align: middle;\n",
              "    }\n",
              "\n",
              "    .dataframe tbody tr th {\n",
              "        vertical-align: top;\n",
              "    }\n",
              "\n",
              "    .dataframe thead th {\n",
              "        text-align: right;\n",
              "    }\n",
              "</style>\n",
              "<table border=\"1\" class=\"dataframe\">\n",
              "  <thead>\n",
              "    <tr style=\"text-align: right;\">\n",
              "      <th></th>\n",
              "      <th>Frame0</th>\n",
              "      <th>Frame1</th>\n",
              "      <th>Speed</th>\n",
              "      <th>speed</th>\n",
              "    </tr>\n",
              "  </thead>\n",
              "  <tbody>\n",
              "    <tr>\n",
              "      <th>0</th>\n",
              "      <td>frame0.jpg</td>\n",
              "      <td>frame1.jpg</td>\n",
              "      <td>0</td>\n",
              "      <td>0</td>\n",
              "    </tr>\n",
              "    <tr>\n",
              "      <th>1</th>\n",
              "      <td>frame1.jpg</td>\n",
              "      <td>frame2.jpg</td>\n",
              "      <td>0</td>\n",
              "      <td>0</td>\n",
              "    </tr>\n",
              "    <tr>\n",
              "      <th>2</th>\n",
              "      <td>frame2.jpg</td>\n",
              "      <td>frame3.jpg</td>\n",
              "      <td>0</td>\n",
              "      <td>0</td>\n",
              "    </tr>\n",
              "    <tr>\n",
              "      <th>3</th>\n",
              "      <td>frame3.jpg</td>\n",
              "      <td>frame4.jpg</td>\n",
              "      <td>0</td>\n",
              "      <td>0</td>\n",
              "    </tr>\n",
              "    <tr>\n",
              "      <th>4</th>\n",
              "      <td>frame4.jpg</td>\n",
              "      <td>frame5.jpg</td>\n",
              "      <td>0</td>\n",
              "      <td>0</td>\n",
              "    </tr>\n",
              "  </tbody>\n",
              "</table>\n",
              "</div>"
            ],
            "text/plain": [
              "       Frame0      Frame1  Speed  speed\n",
              "0  frame0.jpg  frame1.jpg      0      0\n",
              "1  frame1.jpg  frame2.jpg      0      0\n",
              "2  frame2.jpg  frame3.jpg      0      0\n",
              "3  frame3.jpg  frame4.jpg      0      0\n",
              "4  frame4.jpg  frame5.jpg      0      0"
            ]
          },
          "metadata": {
            "tags": []
          },
          "execution_count": 28
        }
      ]
    },
    {
      "cell_type": "code",
      "metadata": {
        "id": "03QiMO2ZHdQE",
        "colab_type": "code",
        "colab": {}
      },
      "source": [
        "test_dir = \"/content/test/\"\n",
        "transform = transforms.Compose([BGR2RGB(), BrightnessPerturb(), Resize(), OpticalFlow(), ToTensor()])\n",
        "test_dataset = CustomDatasetFromCSV(test, test_dir, transform)\n",
        "\n",
        "test_loader = DataLoader(test_dataset,\n",
        "                          batch_size=32,\n",
        "                          shuffle=False,\n",
        "                          num_workers=4 # 1 for CUDA\n",
        "                         )"
      ],
      "execution_count": 0,
      "outputs": []
    },
    {
      "cell_type": "code",
      "metadata": {
        "id": "bjy3A-wjInsn",
        "colab_type": "code",
        "outputId": "b6f43c43-19e9-4364-dced-f728f8a26d70",
        "colab": {
          "base_uri": "https://localhost:8080/",
          "height": 34
        }
      },
      "source": [
        "net.load_state_dict(torch.load(\"/content/model_4.pt\"))"
      ],
      "execution_count": 0,
      "outputs": [
        {
          "output_type": "execute_result",
          "data": {
            "text/plain": [
              "<All keys matched successfully>"
            ]
          },
          "metadata": {
            "tags": []
          },
          "execution_count": 52
        }
      ]
    },
    {
      "cell_type": "code",
      "metadata": {
        "id": "JbQ3BcgkI4RW",
        "colab_type": "code",
        "outputId": "bfdbaea7-e0df-497b-af0a-2dd2da4f4ed5",
        "colab": {
          "base_uri": "https://localhost:8080/",
          "height": 619
        }
      },
      "source": [
        "predict = []\n",
        "import warnings\n",
        "warnings.filterwarnings('ignore')\n",
        "net.eval()\n",
        "for i, data in enumerate(test_loader):\n",
        "  # get the inputs; data is a list of [inputs, labels]\n",
        "  (img, flow, speed) = data\n",
        "\n",
        "  # Concatenating image and flow\n",
        "  inputs = torch.cat((img, flow), 1).to(device)\n",
        "  speed = speed.unsqueeze(1)\n",
        "  speed = speed.to(device)\n",
        "\n",
        "  # forward + backward + optimize\n",
        "  outputs = net(inputs)\n",
        "\n",
        "  predict.append(outputs.to('cpu').detach().numpy())"
      ],
      "execution_count": 0,
      "outputs": [
        {
          "output_type": "error",
          "ename": "error",
          "evalue": "ignored",
          "traceback": [
            "\u001b[0;31m---------------------------------------------------------------------------\u001b[0m",
            "\u001b[0;31merror\u001b[0m                                     Traceback (most recent call last)",
            "\u001b[0;32m<ipython-input-55-bae499a532d6>\u001b[0m in \u001b[0;36m<module>\u001b[0;34m()\u001b[0m\n\u001b[1;32m      3\u001b[0m \u001b[0mwarnings\u001b[0m\u001b[0;34m.\u001b[0m\u001b[0mfilterwarnings\u001b[0m\u001b[0;34m(\u001b[0m\u001b[0;34m'ignore'\u001b[0m\u001b[0;34m)\u001b[0m\u001b[0;34m\u001b[0m\u001b[0;34m\u001b[0m\u001b[0m\n\u001b[1;32m      4\u001b[0m \u001b[0mnet\u001b[0m\u001b[0;34m.\u001b[0m\u001b[0meval\u001b[0m\u001b[0;34m(\u001b[0m\u001b[0;34m)\u001b[0m\u001b[0;34m\u001b[0m\u001b[0;34m\u001b[0m\u001b[0m\n\u001b[0;32m----> 5\u001b[0;31m \u001b[0;32mfor\u001b[0m \u001b[0mi\u001b[0m\u001b[0;34m,\u001b[0m \u001b[0mdata\u001b[0m \u001b[0;32min\u001b[0m \u001b[0menumerate\u001b[0m\u001b[0;34m(\u001b[0m\u001b[0mtest_loader\u001b[0m\u001b[0;34m)\u001b[0m\u001b[0;34m:\u001b[0m\u001b[0;34m\u001b[0m\u001b[0;34m\u001b[0m\u001b[0m\n\u001b[0m\u001b[1;32m      6\u001b[0m   \u001b[0;31m# get the inputs; data is a list of [inputs, labels]\u001b[0m\u001b[0;34m\u001b[0m\u001b[0;34m\u001b[0m\u001b[0;34m\u001b[0m\u001b[0m\n\u001b[1;32m      7\u001b[0m   \u001b[0;34m(\u001b[0m\u001b[0mimg\u001b[0m\u001b[0;34m,\u001b[0m \u001b[0mflow\u001b[0m\u001b[0;34m,\u001b[0m \u001b[0mspeed\u001b[0m\u001b[0;34m)\u001b[0m \u001b[0;34m=\u001b[0m \u001b[0mdata\u001b[0m\u001b[0;34m\u001b[0m\u001b[0;34m\u001b[0m\u001b[0m\n",
            "\u001b[0;32m/usr/local/lib/python3.6/dist-packages/torch/utils/data/dataloader.py\u001b[0m in \u001b[0;36m__next__\u001b[0;34m(self)\u001b[0m\n\u001b[1;32m    817\u001b[0m             \u001b[0;32melse\u001b[0m\u001b[0;34m:\u001b[0m\u001b[0;34m\u001b[0m\u001b[0;34m\u001b[0m\u001b[0m\n\u001b[1;32m    818\u001b[0m                 \u001b[0;32mdel\u001b[0m \u001b[0mself\u001b[0m\u001b[0;34m.\u001b[0m\u001b[0mtask_info\u001b[0m\u001b[0;34m[\u001b[0m\u001b[0midx\u001b[0m\u001b[0;34m]\u001b[0m\u001b[0;34m\u001b[0m\u001b[0;34m\u001b[0m\u001b[0m\n\u001b[0;32m--> 819\u001b[0;31m                 \u001b[0;32mreturn\u001b[0m \u001b[0mself\u001b[0m\u001b[0;34m.\u001b[0m\u001b[0m_process_data\u001b[0m\u001b[0;34m(\u001b[0m\u001b[0mdata\u001b[0m\u001b[0;34m)\u001b[0m\u001b[0;34m\u001b[0m\u001b[0;34m\u001b[0m\u001b[0m\n\u001b[0m\u001b[1;32m    820\u001b[0m \u001b[0;34m\u001b[0m\u001b[0m\n\u001b[1;32m    821\u001b[0m     \u001b[0mnext\u001b[0m \u001b[0;34m=\u001b[0m \u001b[0m__next__\u001b[0m  \u001b[0;31m# Python 2 compatibility\u001b[0m\u001b[0;34m\u001b[0m\u001b[0;34m\u001b[0m\u001b[0m\n",
            "\u001b[0;32m/usr/local/lib/python3.6/dist-packages/torch/utils/data/dataloader.py\u001b[0m in \u001b[0;36m_process_data\u001b[0;34m(self, data)\u001b[0m\n\u001b[1;32m    844\u001b[0m         \u001b[0mself\u001b[0m\u001b[0;34m.\u001b[0m\u001b[0m_try_put_index\u001b[0m\u001b[0;34m(\u001b[0m\u001b[0;34m)\u001b[0m\u001b[0;34m\u001b[0m\u001b[0;34m\u001b[0m\u001b[0m\n\u001b[1;32m    845\u001b[0m         \u001b[0;32mif\u001b[0m \u001b[0misinstance\u001b[0m\u001b[0;34m(\u001b[0m\u001b[0mdata\u001b[0m\u001b[0;34m,\u001b[0m \u001b[0mExceptionWrapper\u001b[0m\u001b[0;34m)\u001b[0m\u001b[0;34m:\u001b[0m\u001b[0;34m\u001b[0m\u001b[0;34m\u001b[0m\u001b[0m\n\u001b[0;32m--> 846\u001b[0;31m             \u001b[0mdata\u001b[0m\u001b[0;34m.\u001b[0m\u001b[0mreraise\u001b[0m\u001b[0;34m(\u001b[0m\u001b[0;34m)\u001b[0m\u001b[0;34m\u001b[0m\u001b[0;34m\u001b[0m\u001b[0m\n\u001b[0m\u001b[1;32m    847\u001b[0m         \u001b[0;32mreturn\u001b[0m \u001b[0mdata\u001b[0m\u001b[0;34m\u001b[0m\u001b[0;34m\u001b[0m\u001b[0m\n\u001b[1;32m    848\u001b[0m \u001b[0;34m\u001b[0m\u001b[0m\n",
            "\u001b[0;32m/usr/local/lib/python3.6/dist-packages/torch/_utils.py\u001b[0m in \u001b[0;36mreraise\u001b[0;34m(self)\u001b[0m\n\u001b[1;32m    367\u001b[0m             \u001b[0;31m# (https://bugs.python.org/issue2651), so we work around it.\u001b[0m\u001b[0;34m\u001b[0m\u001b[0;34m\u001b[0m\u001b[0;34m\u001b[0m\u001b[0m\n\u001b[1;32m    368\u001b[0m             \u001b[0mmsg\u001b[0m \u001b[0;34m=\u001b[0m \u001b[0mKeyErrorMessage\u001b[0m\u001b[0;34m(\u001b[0m\u001b[0mmsg\u001b[0m\u001b[0;34m)\u001b[0m\u001b[0;34m\u001b[0m\u001b[0;34m\u001b[0m\u001b[0m\n\u001b[0;32m--> 369\u001b[0;31m         \u001b[0;32mraise\u001b[0m \u001b[0mself\u001b[0m\u001b[0;34m.\u001b[0m\u001b[0mexc_type\u001b[0m\u001b[0;34m(\u001b[0m\u001b[0mmsg\u001b[0m\u001b[0;34m)\u001b[0m\u001b[0;34m\u001b[0m\u001b[0;34m\u001b[0m\u001b[0m\n\u001b[0m",
            "\u001b[0;31merror\u001b[0m: Caught error in DataLoader worker process 1.\nOriginal Traceback (most recent call last):\n  File \"/usr/local/lib/python3.6/dist-packages/torch/utils/data/_utils/worker.py\", line 178, in _worker_loop\n    data = fetcher.fetch(index)\n  File \"/usr/local/lib/python3.6/dist-packages/torch/utils/data/_utils/fetch.py\", line 44, in fetch\n    data = [self.dataset[idx] for idx in possibly_batched_index]\n  File \"/usr/local/lib/python3.6/dist-packages/torch/utils/data/_utils/fetch.py\", line 44, in <listcomp>\n    data = [self.dataset[idx] for idx in possibly_batched_index]\n  File \"<ipython-input-31-21cbe631810a>\", line 18, in __getitem__\n    img = self.transform(img)\n  File \"/usr/local/lib/python3.6/dist-packages/torchvision/transforms/transforms.py\", line 61, in __call__\n    img = t(img)\n  File \"<ipython-input-32-83d0a2820eca>\", line 6, in __call__\n    img2 = cv2.cvtColor(img2, cv2.COLOR_BGR2RGB)\ncv2.error: OpenCV(3.4.3) /io/opencv/modules/imgproc/src/color.cpp:181: error: (-215:Assertion failed) !_src.empty() in function 'cvtColor'\n\n"
          ]
        }
      ]
    },
    {
      "cell_type": "code",
      "metadata": {
        "id": "UwBO1rACJZzQ",
        "colab_type": "code",
        "outputId": "d221aee5-c3e9-478a-9fbb-220be3f2d836",
        "colab": {
          "base_uri": "https://localhost:8080/",
          "height": 167
        }
      },
      "source": [
        "numel(predict)"
      ],
      "execution_count": 0,
      "outputs": [
        {
          "output_type": "error",
          "ename": "NameError",
          "evalue": "ignored",
          "traceback": [
            "\u001b[0;31m---------------------------------------------------------------------------\u001b[0m",
            "\u001b[0;31mNameError\u001b[0m                                 Traceback (most recent call last)",
            "\u001b[0;32m<ipython-input-45-5366d4a66163>\u001b[0m in \u001b[0;36m<module>\u001b[0;34m()\u001b[0m\n\u001b[0;32m----> 1\u001b[0;31m \u001b[0mnumel\u001b[0m\u001b[0;34m(\u001b[0m\u001b[0mpredict\u001b[0m\u001b[0;34m)\u001b[0m\u001b[0;34m\u001b[0m\u001b[0;34m\u001b[0m\u001b[0m\n\u001b[0m",
            "\u001b[0;31mNameError\u001b[0m: name 'numel' is not defined"
          ]
        }
      ]
    },
    {
      "cell_type": "code",
      "metadata": {
        "id": "vTIKIjj7KoPy",
        "colab_type": "code",
        "colab": {}
      },
      "source": [
        "flatten = lambda predict: [item for sublist in predict for item in sublist]"
      ],
      "execution_count": 0,
      "outputs": []
    },
    {
      "cell_type": "code",
      "metadata": {
        "id": "SZJBSTGzK9GQ",
        "colab_type": "code",
        "colab": {}
      },
      "source": [
        "import itertools\n",
        "merged = list(itertools.chain.from_iterable(predict))"
      ],
      "execution_count": 0,
      "outputs": []
    },
    {
      "cell_type": "code",
      "metadata": {
        "id": "_0U3DQtjK-ZE",
        "colab_type": "code",
        "outputId": "477547c8-09e2-41d8-8a71-1fb5f49ae275",
        "colab": {
          "base_uri": "https://localhost:8080/",
          "height": 34
        }
      },
      "source": [
        "len(merged)"
      ],
      "execution_count": 0,
      "outputs": [
        {
          "output_type": "execute_result",
          "data": {
            "text/plain": [
              "10784"
            ]
          },
          "metadata": {
            "tags": []
          },
          "execution_count": 57
        }
      ]
    },
    {
      "cell_type": "code",
      "metadata": {
        "id": "nw2hYxkBLMBw",
        "colab_type": "code",
        "outputId": "b9d30dc8-a027-41bc-c0f0-986b13356350",
        "colab": {
          "base_uri": "https://localhost:8080/",
          "height": 34
        }
      },
      "source": [
        "len(frame0)"
      ],
      "execution_count": 0,
      "outputs": [
        {
          "output_type": "execute_result",
          "data": {
            "text/plain": [
              "10798"
            ]
          },
          "metadata": {
            "tags": []
          },
          "execution_count": 58
        }
      ]
    },
    {
      "cell_type": "code",
      "metadata": {
        "id": "nV7hTxNXLOBC",
        "colab_type": "code",
        "colab": {}
      },
      "source": [
        "with open('/content/keon.txt', 'r') as f:\n",
        "    x = f.readlines()"
      ],
      "execution_count": 0,
      "outputs": []
    },
    {
      "cell_type": "code",
      "metadata": {
        "id": "BBbLYzYdNRtZ",
        "colab_type": "code",
        "colab": {}
      },
      "source": [
        "predict_arr = np.array(merged)\n",
        "keon = np.array(x[0:10784])"
      ],
      "execution_count": 0,
      "outputs": []
    },
    {
      "cell_type": "code",
      "metadata": {
        "id": "cJyFDmSKNW5A",
        "colab_type": "code",
        "outputId": "066fbf33-b941-4ae5-bbc5-9caa700f44da",
        "colab": {
          "base_uri": "https://localhost:8080/",
          "height": 34
        }
      },
      "source": [
        "predict_arr.shape"
      ],
      "execution_count": 0,
      "outputs": [
        {
          "output_type": "execute_result",
          "data": {
            "text/plain": [
              "(10784, 1)"
            ]
          },
          "metadata": {
            "tags": []
          },
          "execution_count": 63
        }
      ]
    },
    {
      "cell_type": "code",
      "metadata": {
        "id": "LyrE9_RoNh7K",
        "colab_type": "code",
        "outputId": "1ba2f270-492a-4e31-a34d-50f584ed7ef6",
        "colab": {
          "base_uri": "https://localhost:8080/",
          "height": 34
        }
      },
      "source": [
        "keon = keon.reshape(-1,1)\n",
        "keon.shape"
      ],
      "execution_count": 0,
      "outputs": [
        {
          "output_type": "execute_result",
          "data": {
            "text/plain": [
              "(10784, 1)"
            ]
          },
          "metadata": {
            "tags": []
          },
          "execution_count": 66
        }
      ]
    },
    {
      "cell_type": "code",
      "metadata": {
        "id": "tgkwESaJNjop",
        "colab_type": "code",
        "outputId": "ef810e74-2509-4d33-891a-135c91b39740",
        "colab": {
          "base_uri": "https://localhost:8080/",
          "height": 34
        }
      },
      "source": [
        "np.mean((np.float32(predict_arr) - np.float32(keon))**2)"
      ],
      "execution_count": 0,
      "outputs": [
        {
          "output_type": "execute_result",
          "data": {
            "text/plain": [
              "54.76434"
            ]
          },
          "metadata": {
            "tags": []
          },
          "execution_count": 68
        }
      ]
    },
    {
      "cell_type": "code",
      "metadata": {
        "id": "LsDpFMCZNurf",
        "colab_type": "code",
        "colab": {}
      },
      "source": [
        ""
      ],
      "execution_count": 0,
      "outputs": []
    },
    {
      "cell_type": "code",
      "metadata": {
        "id": "eI-ndLuBN233",
        "colab_type": "code",
        "colab": {}
      },
      "source": [
        ""
      ],
      "execution_count": 0,
      "outputs": []
    },
    {
      "cell_type": "code",
      "metadata": {
        "id": "zjqBLXjYN35f",
        "colab_type": "code",
        "colab": {}
      },
      "source": [
        ""
      ],
      "execution_count": 0,
      "outputs": []
    }
  ]
}